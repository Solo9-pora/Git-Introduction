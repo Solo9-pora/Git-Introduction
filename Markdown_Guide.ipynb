{
  "cells": [
    {
      "cell_type": "markdown",
      "metadata": {
        "id": "view-in-github",
        "colab_type": "text"
      },
      "source": [
        "<a href=\"https://colab.research.google.com/github/Solo9-pora/Git-Introduction/blob/main/Markdown_Guide.ipynb\" target=\"_parent\"><img src=\"https://colab.research.google.com/assets/colab-badge.svg\" alt=\"Open In Colab\"/></a>"
      ]
    },
    {
      "cell_type": "markdown",
      "metadata": {
        "id": "70pYkR9LiOV0"
      },
      "source": [
        "## What is Markdown?\n",
        "\n",
        "Colab has two types of cells: text and code. Text cells are formatted using a simple markup language called Markdown.\n",
        "\n",
        "\n",
        "To see the Markdown source, double-click a text cell, showing both the Markdown source and the rendered version. Above the Markdown source there is a toolbar to assist editing."
      ]
    },
    {
      "cell_type": "markdown",
      "source": [],
      "metadata": {
        "id": "h8pNPz_5MbKs"
      }
    },
    {
      "cell_type": "markdown",
      "source": [
        "### Basic Operations"
      ],
      "metadata": {
        "id": "QJGpEF_UMQ_C"
      }
    },
    {
      "cell_type": "code",
      "source": [
        "addition = 5 + 7\n",
        "print(addition)"
      ],
      "metadata": {
        "colab": {
          "base_uri": "https://localhost:8080/"
        },
        "id": "2lAExZoKM_-t",
        "outputId": "29fad6dc-7077-4c84-ce6d-ed4b563d50ef"
      },
      "execution_count": 22,
      "outputs": [
        {
          "output_type": "stream",
          "name": "stdout",
          "text": [
            "12\n"
          ]
        }
      ]
    },
    {
      "cell_type": "code",
      "source": [
        "subtraction = 5 - 7\n",
        "print(subtraction)"
      ],
      "metadata": {
        "colab": {
          "base_uri": "https://localhost:8080/"
        },
        "id": "BCxz_zNjNZby",
        "outputId": "232a5cd4-05cd-4961-864b-d774591fbfab"
      },
      "execution_count": 23,
      "outputs": [
        {
          "output_type": "stream",
          "name": "stdout",
          "text": [
            "-2\n"
          ]
        }
      ]
    },
    {
      "cell_type": "code",
      "source": [
        "exponentiation = 5 ** 7\n",
        "print(exponentiation)"
      ],
      "metadata": {
        "colab": {
          "base_uri": "https://localhost:8080/"
        },
        "id": "biBggbLnNoKx",
        "outputId": "aa5a48c6-8a5a-48e9-8b4f-64e7c9dd22b5"
      },
      "execution_count": 24,
      "outputs": [
        {
          "output_type": "stream",
          "name": "stdout",
          "text": [
            "78125\n"
          ]
        }
      ]
    },
    {
      "cell_type": "markdown",
      "source": [
        "# Strings Operations"
      ],
      "metadata": {
        "id": "7bN6NjTwN0Mx"
      }
    },
    {
      "cell_type": "code",
      "source": [
        "greeting = \"Hello\" + \" \" + \"World\" # concatenation\n",
        "print(greeting)"
      ],
      "metadata": {
        "colab": {
          "base_uri": "https://localhost:8080/"
        },
        "id": "JQCTKaq0N56T",
        "outputId": "91b8e23c-2928-4778-ca87-9ea08f4bdb62"
      },
      "execution_count": 29,
      "outputs": [
        {
          "output_type": "stream",
          "name": "stdout",
          "text": [
            "Hello World\n"
          ]
        }
      ]
    },
    {
      "cell_type": "code",
      "source": [
        "first_name = \"Solomon\"\n",
        "last_name = \"Ogah\"\n",
        "fullname = first_name + \" \" + last_name\n",
        "print(fullname)"
      ],
      "metadata": {
        "colab": {
          "base_uri": "https://localhost:8080/"
        },
        "id": "F-0tmBJaQJM2",
        "outputId": "76716aba-c2ca-472a-921b-c168ce316909"
      },
      "execution_count": 32,
      "outputs": [
        {
          "output_type": "stream",
          "name": "stdout",
          "text": [
            "Solomon Ogah\n"
          ]
        }
      ]
    },
    {
      "cell_type": "code",
      "source": [
        "\"The name of the student is \" + fullname"
      ],
      "metadata": {
        "colab": {
          "base_uri": "https://localhost:8080/",
          "height": 35
        },
        "id": "e-qqZH0iQ_gh",
        "outputId": "91aeaf60-5784-425e-a5b2-613670a91bf0"
      },
      "execution_count": 33,
      "outputs": [
        {
          "output_type": "execute_result",
          "data": {
            "text/plain": [
              "'The name of the student is Solomon Ogah'"
            ],
            "application/vnd.google.colaboratory.intrinsic+json": {
              "type": "string"
            }
          },
          "metadata": {},
          "execution_count": 33
        }
      ]
    },
    {
      "cell_type": "markdown",
      "metadata": {
        "id": "Lhfnlq1Surtk"
      },
      "source": [
        "## Reference\n",
        "\n",
        "Markdown | Preview\n",
        "--- | ---\n",
        "`**bold text**` | **bold text**\n",
        "`*italicized text*` or `_italicized text_` | *italicized text*\n",
        "`` `Monospace` `` | `Monospace`\n",
        "`~~strikethrough~~` | ~~strikethrough~~\n",
        "`[A link](https://www.google.com)` | [A link](https://www.google.com)\n",
        "`![An image](https://www.google.com/images/rss.png)` | ![An image](https://www.google.com/images/rss.png)\n",
        "\n",
        "\n",
        "---\n",
        "Headings are rendered as titles.\n",
        "\n",
        "```markdown\n",
        "# Section 1\n",
        "# Section 2\n",
        "## Sub-section under Section 2\n",
        "### Sub-section under the sub-section under Section 2\n",
        "# Section 3\n",
        "```\n",
        "\n",
        "# Section 1\n",
        "# Section 2\n",
        "## Sub-section under Section 2\n",
        "### Sub-section under the sub-section under Section 2\n",
        "# Section 3\n",
        "\n",
        "The table of contents, available on the left side of Colab, is populated using at most one section title from each text cell.\n",
        "\n",
        "---\n",
        "\n",
        "```markdown\n",
        ">One level of indentation\n",
        "```\n",
        "\n",
        ">One level of indentation\n",
        "\n",
        "\n",
        "```markdown\n",
        ">>Two levels of indentation\n",
        "```\n",
        "\n",
        ">>Two levels of indentation\n",
        "\n",
        "---\n",
        "\n",
        "Code blocks\n",
        "\n",
        "````\n",
        "```python\n",
        "print(\"a\")\n",
        "```\n",
        "````\n",
        "\n",
        "```python\n",
        "print(\"a\")\n",
        "```\n",
        "\n",
        "---\n",
        "\n",
        "Ordered lists:\n",
        "```markdown\n",
        "1. One\n",
        "1. Two\n",
        "1. Three\n",
        "```\n",
        "1. One\n",
        "1. Two\n",
        "1. Three\n",
        "\n",
        "---\n",
        "\n",
        "Unordered lists:\n",
        "```markdown\n",
        "* One\n",
        "* Two\n",
        "* Three\n",
        "```\n",
        "* One\n",
        "* Two\n",
        "* Three\n",
        "\n",
        "---\n",
        "\n",
        "Equations:\n",
        "\n",
        "```markdown\n",
        "$y=x^2$\n",
        "\n",
        "$e^{i\\pi} + 1 = 0$\n",
        "\n",
        "$e^x=\\sum_{i=0}^\\infty \\frac{1}{i!}x^i$\n",
        "\n",
        "$\\frac{n!}{k!(n-k)!} = {n \\choose k}$\n",
        "\n",
        "$A_{m,n} =\n",
        " \\begin{pmatrix}\n",
        "  a_{1,1} & a_{1,2} & \\cdots & a_{1,n} \\\\\n",
        "  a_{2,1} & a_{2,2} & \\cdots & a_{2,n} \\\\\n",
        "  \\vdots  & \\vdots  & \\ddots & \\vdots  \\\\\n",
        "  a_{m,1} & a_{m,2} & \\cdots & a_{m,n}\n",
        " \\end{pmatrix}$\n",
        "```\n",
        "\n",
        "$y=x^2$\n",
        "\n",
        "$e^{i\\pi} + 1 = 0$\n",
        "\n",
        "$e^x=\\sum_{i=0}^\\infty \\frac{1}{i!}x^i$\n",
        "\n",
        "$\\frac{n!}{k!(n-k)!} = {n \\choose k}$\n",
        "\n",
        "$A_{m,n} =\n",
        " \\begin{pmatrix}\n",
        "  a_{1,1} & a_{1,2} & \\cdots & a_{1,n} \\\\\n",
        "  a_{2,1} & a_{2,2} & \\cdots & a_{2,n} \\\\\n",
        "  \\vdots  & \\vdots  & \\ddots & \\vdots  \\\\\n",
        "  a_{m,1} & a_{m,2} & \\cdots & a_{m,n}\n",
        " \\end{pmatrix}$\n",
        "\n",
        "\n",
        " ---\n",
        "\n",
        "Tables:\n",
        "```markdown\n",
        "First column name  | Second column name\n",
        "-------------------|------------------\n",
        "Row 1, Col 1       | Row 1, Col 2\n",
        "Row 2, Col 1       | Row 2, Col 2\n",
        "\n",
        "```\n",
        "\n",
        "First column name  | Second column name\n",
        "-------------------|------------------\n",
        "Row 1, Col 1       | Row 1, Col 2\n",
        "Row 2, Col 1       | Row 2, Col 2\n",
        "\n",
        "---\n",
        "\n",
        "Horizontal rules:\n",
        "```markdown\n",
        "---\n",
        "```\n",
        "\n",
        "---\n",
        "\n",
        "\n"
      ]
    },
    {
      "cell_type": "code",
      "source": [
        "# prompt: mark up using Python Basics\n",
        "\n",
        "# ## Python Basics\n",
        "\n",
        "# ### Variables and Data Types\n",
        "\n",
        "# In Python, you can assign values to variables using the assignment operator `=`.\n",
        "\n",
        "#"
      ],
      "metadata": {
        "id": "eVUT2HDM7Mn7"
      },
      "execution_count": 20,
      "outputs": []
    },
    {
      "cell_type": "markdown",
      "metadata": {
        "id": "w86a4I4fmkvD"
      },
      "source": [
        "## Differences between Colab Markdown and other Markdown dialects\n",
        "\n",
        "Colab uses [marked.js](https://github.com/chjj/marked) and so is similar but not quite identical to the Markdown used by Jupyter and GitHub.\n",
        "\n",
        "Colab supports (MathJax) $\\LaTeX$ equations like Jupyter, but does not allow HTML tags in the Markdown. Colab does not support some GitHub additions like emojis and to-do checkboxes.\n",
        "\n",
        "If HTML must be included in a Colab notebook, see the [%%html magic](/notebooks/basic_features_overview.ipynb#scrollTo=qM4myQGfQboQ)."
      ]
    },
    {
      "cell_type": "markdown",
      "metadata": {
        "id": "uSx6SUb1Komv"
      },
      "source": [
        "## Useful references"
      ]
    },
    {
      "cell_type": "markdown",
      "metadata": {
        "id": "5Y3CStVkLxqt"
      },
      "source": [
        "* [GitHub Markdown basics](https://help.github.com/articles/markdown-basics/)\n",
        "* [GitHub flavored Markdown](https://help.github.com/articles/github-flavored-markdown/)\n",
        "* [Original Markdown spec: Syntax](http://daringfireball.net/projects/markdown/syntax)\n",
        "* [Original Markdown spec: Basics](http://daringfireball.net/projects/markdown/basics)\n",
        "* [marked.js library used by Colab](https://github.com/chjj/marked)\n",
        "* [LaTex mathematics for equations](https://en.wikibooks.org/wiki/LaTeX/Mathematics)"
      ]
    }
  ],
  "metadata": {
    "colab": {
      "name": "Markdown Guide",
      "provenance": [],
      "history_visible": true,
      "include_colab_link": true
    },
    "kernelspec": {
      "display_name": "Python 3",
      "name": "python3"
    }
  },
  "nbformat": 4,
  "nbformat_minor": 0
}